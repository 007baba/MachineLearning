{
 "cells": [
  {
   "cell_type": "code",
   "execution_count": 1,
   "metadata": {
    "collapsed": true
   },
   "outputs": [],
   "source": [
    "#高频天线收集的电离层数据集 "
   ]
  },
  {
   "cell_type": "code",
   "execution_count": 2,
   "metadata": {
    "collapsed": false
   },
   "outputs": [],
   "source": [
    "import numpy as np\n",
    "import csv\n",
    "\n",
    "data_filename =\"data/ionosphere.data\"\n"
   ]
  },
  {
   "cell_type": "code",
   "execution_count": 3,
   "metadata": {
    "collapsed": false
   },
   "outputs": [],
   "source": [
    "#初始化接受数据的数组\n",
    "\n",
    "X = np.zeros( (351, 34),dtype='float')\n",
    "y = np.zeros((351,),dtype='bool')\n",
    "\n",
    "#读取文件信息\n",
    "with open(data_filename,'r') as data:\n",
    "    reader = csv.reader(data)\n",
    "    for i, row in enumerate(reader):\n",
    "        X[i] = [ float(datum) for datum in row[:-1] ]\n",
    "        y[i] = row[-1] == 'g' #把g转换为0，1\n",
    "    "
   ]
  },
  {
   "cell_type": "code",
   "execution_count": 4,
   "metadata": {
    "collapsed": false
   },
   "outputs": [
    {
     "name": "stdout",
     "output_type": "stream",
     "text": [
      "准确率: 86.3636363636\n",
      "平均准确率： 82.3361823362\n"
     ]
    }
   ],
   "source": [
    "from sklearn.cross_validation import train_test_split\n",
    "from sklearn.neighbors import KNeighborsClassifier \n",
    "from sklearn.cross_validation import  cross_val_score\n",
    "\n",
    "X_train,X_test,y_train,y_test = train_test_split(X,y,random_state=14)\n",
    "\n",
    "estimator = KNeighborsClassifier()\n",
    "\n",
    "estimator.fit(X_train,y_train)\n",
    "\n",
    "y_preditcted = estimator.predict(X_test)\n",
    "\n",
    "accuracy = np.mean(y_test == y_preditcted) * 100\n",
    "print(\"准确率:\",accuracy)\n",
    "\n",
    "scores = cross_val_score(estimator,X,y,scoring='accuracy')\n",
    "avg_accuracy = np.mean(scores) * 100\n",
    "print(\"平均准确率：\",avg_accuracy)\n"
   ]
  },
  {
   "cell_type": "code",
   "execution_count": 27,
   "metadata": {
    "collapsed": true
   },
   "outputs": [],
   "source": [
    "#调整近邻数量\n",
    "avg_scores = []\n",
    "all_scores = []\n",
    "\n",
    "num_size = list(range(1,51))\n",
    "\n",
    "for n_neighbors in num_size:\n",
    "    esimator = KNeighborsClassifier(n_neighbors=n_neighbors)\n",
    "    scores = cross_val_score(esimator,X,y,scoring='accuracy')\n",
    "    avg_scores.append(np.mean(scores))\n",
    "    all_scores.append(scores)\n"
   ]
  },
  {
   "cell_type": "code",
   "execution_count": 28,
   "metadata": {
    "collapsed": false,
    "scrolled": true
   },
   "outputs": [
    {
     "data": {
      "text/plain": [
       "[<matplotlib.lines.Line2D at 0x11955c358>]"
      ]
     },
     "execution_count": 28,
     "metadata": {},
     "output_type": "execute_result"
    },
    {
     "data": {
      "image/png": "[encoded data removed]",
      "text/plain": [
       "<matplotlib.figure.Figure at 0x1181086d8>"
      ]
     },
     "metadata": {},
     "output_type": "display_data"
    }
   ],
   "source": [
    "%matplotlib inline \n",
    "\n",
    "import matplotlib.pyplot as plt\n",
    "\n",
    "plt.plot(num_size,avg_scores,'-o',linewidth=5, markersize=12)\n",
    "\n",
    "#随着近邻的增加  准确率不断的下降"
   ]
  },
  {
   "cell_type": "code",
   "execution_count": null,
   "metadata": {
    "collapsed": true
   },
   "outputs": [],
   "source": []
  }
 ],
 "metadata": {
  "anaconda-cloud": {},
  "kernelspec": {
   "display_name": "Python [Root]",
   "language": "python",
   "name": "Python [Root]"
  },
  "language_info": {
   "codemirror_mode": {
    "name": "ipython",
    "version": 3
   },
   "file_extension": ".py",
   "mimetype": "text/x-python",
   "name": "python",
   "nbconvert_exporter": "python",
   "pygments_lexer": "ipython3",
   "version": "3.5.1"
  }
 },
 "nbformat": 4,
 "nbformat_minor": 0
}
