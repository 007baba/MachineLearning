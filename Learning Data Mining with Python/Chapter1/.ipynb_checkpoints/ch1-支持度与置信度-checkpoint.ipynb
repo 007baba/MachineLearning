{
 "cells": [
  {
   "cell_type": "code",
   "execution_count": 4,
   "metadata": {
    "collapsed": true
   },
   "outputs": [],
   "source": [
    "#实现简单的排序规则--支持度和置信度\n",
    "\n",
    "#在购买记录中寻找顾客同时购买的商品"
   ]
  },
  {
   "cell_type": "code",
   "execution_count": 5,
   "metadata": {
    "collapsed": true
   },
   "outputs": [],
   "source": [
    "import numpy as np\n",
    "\n",
    "data_file = \"affinity_dataset.txt\"\n",
    "\n",
    "#加载文件\n",
    "x = np.loadtxt(data_file)"
   ]
  },
  {
   "cell_type": "code",
   "execution_count": 6,
   "metadata": {
    "collapsed": false
   },
   "outputs": [
    {
     "name": "stdout",
     "output_type": "stream",
     "text": [
      "100 5\n"
     ]
    }
   ],
   "source": [
    "#得到特征数量和训练集数量\n",
    "n_train_test, n_features = x.shape\n",
    "\n",
    "print(n_train_test, n_features)"
   ]
  },
  {
   "cell_type": "code",
   "execution_count": 7,
   "metadata": {
    "collapsed": false
   },
   "outputs": [
    {
     "name": "stdout",
     "output_type": "stream",
     "text": [
      "[[ 0.  0.  1.  1.  1.]\n",
      " [ 1.  1.  0.  1.  0.]\n",
      " [ 1.  0.  1.  1.  0.]\n",
      " [ 0.  0.  1.  1.  1.]\n",
      " [ 0.  1.  0.  0.  1.]]\n"
     ]
    }
   ],
   "source": [
    "#数据格式  0  1 是否同时购买\n",
    "print(x[:5])"
   ]
  },
  {
   "cell_type": "code",
   "execution_count": 8,
   "metadata": {
    "collapsed": true
   },
   "outputs": [],
   "source": [
    "#设置具体features \n",
    "\n",
    "features = ['bread','milk','cheese','apples','bananas']\n",
    "\n",
    "#购买记录为100条\n"
   ]
  },
  {
   "cell_type": "code",
   "execution_count": 11,
   "metadata": {
    "collapsed": false,
    "scrolled": true
   },
   "outputs": [
    {
     "name": "stdout",
     "output_type": "stream",
     "text": [
      "购买苹果的人数为: 36\n"
     ]
    }
   ],
   "source": [
    "#统计多少人买了苹果\n",
    "num_apples_purchases = 0\n",
    "\n",
    "for pruchases_recode in x:\n",
    "    if pruchases_recode[3] == 1:\n",
    "        num_apples_purchases += 1\n",
    "    \n",
    "print(\"购买苹果的人数为: %d\" %(num_apples_purchases))\n"
   ]
  },
  {
   "cell_type": "code",
   "execution_count": 10,
   "metadata": {
    "collapsed": false
   },
   "outputs": [
    {
     "name": "stdout",
     "output_type": "stream",
     "text": [
      "同时购买苹果和香蕉的人为：21\n"
     ]
    }
   ],
   "source": [
    "#同时购买苹果和香蕉的人数\n",
    "\n",
    "num_apples_bananas_purchases = 0\n",
    "\n",
    "for pruchases_recode in x:\n",
    "    if pruchases_recode[3] == 1  and pruchases_recode[4] == 1:\n",
    "        num_apples_bananas_purchases += 1\n",
    "    \n",
    "print(\"同时购买苹果和香蕉的人为：%d\" % (num_apples_bananas_purchases))\n"
   ]
  },
  {
   "cell_type": "code",
   "execution_count": 32,
   "metadata": {
    "collapsed": false,
    "scrolled": true
   },
   "outputs": [
    {
     "name": "stdout",
     "output_type": "stream",
     "text": [
      "购买苹果的人中，会购买香蕉的人占比: 58.333333\n"
     ]
    }
   ],
   "source": [
    "#\n",
    "\n",
    "confidence = num_apples_bananas_purchases / num_apples_purchases\n",
    "\n",
    "print(\"购买苹果的人中，会购买香蕉的人占比: %f\" %(100 * confidence))"
   ]
  },
  {
   "cell_type": "code",
   "execution_count": 34,
   "metadata": {
    "collapsed": false
   },
   "outputs": [],
   "source": [
    "#应用规则到所有购买产品\n",
    "\n",
    "from collections import  defaultdict\n",
    "\n",
    "\n",
    "valid_rules = defaultdict(int)\n",
    "invalid_rules = defaultdict(int)\n",
    "\n",
    "n_not_brought=  defaultdict(int)\n",
    "\n",
    "\n",
    "for pruchases_recode in x:\n",
    "    for i in range(n_features):\n",
    "        if pruchases_recode[i] == 0: continue\n",
    "        n_not_brought[i] += 1\n",
    "        \n",
    "        #找到一个购买记录，判断它后面的商品是否购买\n",
    "        for conclusion in range(n_features):\n",
    "            if i == conclusion:\n",
    "                continue\n",
    "            if pruchases_recode[conclusion] == 1:\n",
    "                valid_rules[(i, conclusion)] += 1\n",
    "            else:\n",
    "                invalid_rules[(i,conclusion)] += 1\n",
    "\n",
    "#得到支持度\n",
    "support = valid_rules\n",
    "confidence = defaultdict(float)\n",
    "\n",
    "for i, conclusion in valid_rules.keys():\n",
    "    rule =(i,conclusion)\n",
    "    #计算置信度\n",
    "    confidence[rule] = valid_rules[rule] / n_not_brought[i]\n",
    "\n",
    "    \n"
   ]
  },
  {
   "cell_type": "code",
   "execution_count": 36,
   "metadata": {
    "collapsed": false
   },
   "outputs": [
    {
     "name": "stdout",
     "output_type": "stream",
     "text": [
      " 规则： 如果一个人买了bread的同时，又买了milk\n",
      " - Confidence: 0.519\n",
      " - Support: 14\n",
      "\n",
      " 规则： 如果一个人买了milk的同时，又买了cheese\n",
      " - Confidence: 0.152\n",
      " - Support: 7\n",
      "\n",
      " 规则： 如果一个人买了apples的同时，又买了cheese\n",
      " - Confidence: 0.694\n",
      " - Support: 25\n",
      "\n",
      " 规则： 如果一个人买了milk的同时，又买了apples\n",
      " - Confidence: 0.196\n",
      " - Support: 9\n",
      "\n",
      " 规则： 如果一个人买了bread的同时，又买了apples\n",
      " - Confidence: 0.185\n",
      " - Support: 5\n",
      "\n",
      " 规则： 如果一个人买了apples的同时，又买了bread\n",
      " - Confidence: 0.139\n",
      " - Support: 5\n",
      "\n",
      " 规则： 如果一个人买了apples的同时，又买了bananas\n",
      " - Confidence: 0.583\n",
      " - Support: 21\n",
      "\n",
      " 规则： 如果一个人买了apples的同时，又买了milk\n",
      " - Confidence: 0.250\n",
      " - Support: 9\n",
      "\n",
      " 规则： 如果一个人买了milk的同时，又买了bananas\n",
      " - Confidence: 0.413\n",
      " - Support: 19\n",
      "\n",
      " 规则： 如果一个人买了cheese的同时，又买了bananas\n",
      " - Confidence: 0.659\n",
      " - Support: 27\n",
      "\n",
      " 规则： 如果一个人买了cheese的同时，又买了bread\n",
      " - Confidence: 0.098\n",
      " - Support: 4\n",
      "\n",
      " 规则： 如果一个人买了cheese的同时，又买了apples\n",
      " - Confidence: 0.610\n",
      " - Support: 25\n",
      "\n",
      " 规则： 如果一个人买了cheese的同时，又买了milk\n",
      " - Confidence: 0.171\n",
      " - Support: 7\n",
      "\n",
      " 规则： 如果一个人买了bananas的同时，又买了apples\n",
      " - Confidence: 0.356\n",
      " - Support: 21\n",
      "\n",
      " 规则： 如果一个人买了bread的同时，又买了bananas\n",
      " - Confidence: 0.630\n",
      " - Support: 17\n",
      "\n",
      " 规则： 如果一个人买了bananas的同时，又买了cheese\n",
      " - Confidence: 0.458\n",
      " - Support: 27\n",
      "\n",
      " 规则： 如果一个人买了milk的同时，又买了bread\n",
      " - Confidence: 0.304\n",
      " - Support: 14\n",
      "\n",
      " 规则： 如果一个人买了bananas的同时，又买了milk\n",
      " - Confidence: 0.322\n",
      " - Support: 19\n",
      "\n",
      " 规则： 如果一个人买了bread的同时，又买了cheese\n",
      " - Confidence: 0.148\n",
      " - Support: 4\n",
      "\n",
      " 规则： 如果一个人买了bananas的同时，又买了bread\n",
      " - Confidence: 0.288\n",
      " - Support: 17\n",
      "\n"
     ]
    }
   ],
   "source": [
    "#输出支持度和置信度\n",
    "\n",
    "for premise, conclusion in confidence:\n",
    "    premise_name = features[premise]\n",
    "    conclusion_name = features[conclusion]\n",
    "    print(\" 规则： 如果一个人买了{0}的同时，又买了{1}\".format(premise_name, conclusion_name))\n",
    "    print(\" - Confidence: {0:.3f}\".format(confidence[(premise, conclusion)]))\n",
    "    print(\" - Support: {0}\".format(support[(premise, conclusion)]))\n",
    "    print(\"\")"
   ]
  },
  {
   "cell_type": "code",
   "execution_count": 45,
   "metadata": {
    "collapsed": false,
    "scrolled": true
   },
   "outputs": [
    {
     "name": "stdout",
     "output_type": "stream",
     "text": [
      "[((2, 4), 27),\n",
      " ((4, 2), 27),\n",
      " ((3, 2), 25),\n",
      " ((2, 3), 25),\n",
      " ((4, 3), 21),\n",
      " ((3, 4), 21),\n",
      " ((4, 1), 19),\n",
      " ((1, 4), 19),\n",
      " ((0, 4), 17),\n",
      " ((4, 0), 17),\n",
      " ((0, 1), 14),\n",
      " ((1, 0), 14),\n",
      " ((1, 3), 9),\n",
      " ((3, 1), 9),\n",
      " ((1, 2), 7),\n",
      " ((2, 1), 7),\n",
      " ((3, 0), 5),\n",
      " ((0, 3), 5),\n",
      " ((0, 2), 4),\n",
      " ((2, 0), 4)]\n"
     ]
    }
   ],
   "source": [
    "#分别排序支持度和置信度\n",
    "\n",
    "# 支持度\n",
    "from pprint import  pprint\n",
    "#pprint(list(support.items()))\n",
    "\n",
    "from operator import  itemgetter\n",
    "sorted_support = sorted(support.items(), key=itemgetter(1), reverse=True)\n",
    "pprint(sorted_support)"
   ]
  },
  {
   "cell_type": "code",
   "execution_count": 46,
   "metadata": {
    "collapsed": false
   },
   "outputs": [
    {
     "name": "stdout",
     "output_type": "stream",
     "text": [
      "[((3, 2), 0.6944444444444444),\n",
      " ((2, 4), 0.6585365853658537),\n",
      " ((0, 4), 0.6296296296296297),\n",
      " ((2, 3), 0.6097560975609756),\n",
      " ((3, 4), 0.5833333333333334),\n",
      " ((0, 1), 0.5185185185185185),\n",
      " ((4, 2), 0.4576271186440678),\n",
      " ((1, 4), 0.41304347826086957),\n",
      " ((4, 3), 0.3559322033898305),\n",
      " ((4, 1), 0.3220338983050847),\n",
      " ((1, 0), 0.30434782608695654),\n",
      " ((4, 0), 0.288135593220339),\n",
      " ((3, 1), 0.25),\n",
      " ((1, 3), 0.1956521739130435),\n",
      " ((0, 3), 0.18518518518518517),\n",
      " ((2, 1), 0.17073170731707318),\n",
      " ((1, 2), 0.15217391304347827),\n",
      " ((0, 2), 0.14814814814814814),\n",
      " ((3, 0), 0.1388888888888889),\n",
      " ((2, 0), 0.0975609756097561)]\n"
     ]
    }
   ],
   "source": [
    "#置信度\n",
    "sorted_confience = sorted(confidence.items(), key=itemgetter(1), reverse=True)\n",
    "pprint(sorted_confience)\n",
    "                        "
   ]
  }
 ],
 "metadata": {
  "anaconda-cloud": {},
  "kernelspec": {
   "display_name": "Python [Root]",
   "language": "python",
   "name": "Python [Root]"
  },
  "language_info": {
   "codemirror_mode": {
    "name": "ipython",
    "version": 3
   },
   "file_extension": ".py",
   "mimetype": "text/x-python",
   "name": "python",
   "nbconvert_exporter": "python",
   "pygments_lexer": "ipython3",
   "version": "3.5.1"
  }
 },
 "nbformat": 4,
 "nbformat_minor": 0
}
