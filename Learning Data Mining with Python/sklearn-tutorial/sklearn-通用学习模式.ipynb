{
 "cells": [
  {
   "cell_type": "code",
   "execution_count": 14,
   "metadata": {
    "collapsed": false,
    "scrolled": true
   },
   "outputs": [
    {
     "name": "stdout",
     "output_type": "stream",
     "text": [
      "[0 0 0 0 0 0 0 0 0 0 0 0 0 0 0 0 0 0 0 0 0 0 0 0 0 0 0 0 0 0 0 0 0 0 0 0 0\n",
      " 0 0 0 0 0 0 0 0 0 0 0 0 0 1 1 1 1 1 1 1 1 1 1 1 1 1 1 1 1 1 1 1 1 1 1 1 1\n",
      " 1 1 1 1 1 1 1 1 1 1 1 1 1 1 1 1 1 1 1 1 1 1 1 1 1 1 2 2 2 2 2 2 2 2 2 2 2\n",
      " 2 2 2 2 2 2 2 2 2 2 2 2 2 2 2 2 2 2 2 2 2 2 2 2 2 2 2 2 2 2 2 2 2 2 2 2 2\n",
      " 2 2]\n"
     ]
    }
   ],
   "source": [
    "import numpy as np\n",
    "from sklearn.datasets import load_iris\n",
    "from sklearn.cross_validation import train_test_split\n",
    "from sklearn.neighbors import  KNeighborsClassifier\n",
    "\n",
    "iris = load_iris()\n",
    "iris_x = iris.data\n",
    "\n",
    "#分类 0 1 2 三个类别\n",
    "iris_y = iris.target\n",
    "print(iris_y)\n"
   ]
  },
  {
   "cell_type": "code",
   "execution_count": 15,
   "metadata": {
    "collapsed": false
   },
   "outputs": [
    {
     "name": "stdout",
     "output_type": "stream",
     "text": [
      "[2 2 0 0 0 1 1 0 1 0 0 1 1 2 0 0 1 2 0 2 2 1 1 2 2 2 1 0 1 1 2 1 2 1 1 1 2\n",
      " 0 0 0 2 0 2 0 0 2 2 2 1 0 0 2 1 2 2 0 0 2 1 0 2 0 1 1 0 0 0 1 0 2 0 2 0 1\n",
      " 0 1 1 1 2 1 2 2 0 1 1 0 0 2 1 0 1 2 2 0 2 1 1 1 0 0 2 2 0 2 2]\n"
     ]
    }
   ],
   "source": [
    "x_train, x_test,y_train,y_test = train_test_split(iris_x, iris_y, test_size=0.3) # 7 3分\n",
    "print(y_train) #打乱的数据\n"
   ]
  },
  {
   "cell_type": "code",
   "execution_count": 16,
   "metadata": {
    "collapsed": false
   },
   "outputs": [
    {
     "name": "stdout",
     "output_type": "stream",
     "text": [
      "[1 2 2 0 2 1 0 0 2 1 1 1 1 0 0 2 2 1 0 1 2 0 2 1 1 1 2 2 0 2 2 1 0 0 0 0 1\n",
      " 1 1 1 1 2 0 2 2]\n",
      "[1 2 2 0 2 1 0 0 2 1 1 1 1 0 0 2 2 1 0 1 2 0 2 1 1 1 2 2 0 2 2 1 0 0 0 0 1\n",
      " 1 1 1 1 2 0 2 2]\n"
     ]
    }
   ],
   "source": [
    "knn = KNeighborsClassifier()\n",
    "\n",
    "knn.fit(x_train,y_train)\n",
    "\n",
    "print(knn.predict(x_test))\n",
    "print(y_test)\n",
    "\n",
    "#有一定的误差"
   ]
  }
 ],
 "metadata": {
  "anaconda-cloud": {},
  "kernelspec": {
   "display_name": "Python [Root]",
   "language": "python",
   "name": "Python [Root]"
  },
  "language_info": {
   "codemirror_mode": {
    "name": "ipython",
    "version": 3
   },
   "file_extension": ".py",
   "mimetype": "text/x-python",
   "name": "python",
   "nbconvert_exporter": "python",
   "pygments_lexer": "ipython3",
   "version": "3.5.1"
  }
 },
 "nbformat": 4,
 "nbformat_minor": 0
}
