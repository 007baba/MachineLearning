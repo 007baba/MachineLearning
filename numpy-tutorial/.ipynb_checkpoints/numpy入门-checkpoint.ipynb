{
 "cells": [
  {
   "cell_type": "code",
   "execution_count": 1,
   "metadata": {
    "collapsed": false
   },
   "outputs": [
    {
     "name": "stdout",
     "output_type": "stream",
     "text": [
      "[[1 2 3]\n",
      " [2 3 4]]\n",
      "2 (2, 3) 6\n"
     ]
    }
   ],
   "source": [
    "#numpy基础属性\n",
    "\n",
    "import numpy as np\n",
    "\n",
    "array  = np.array([[1,2,3],[2,3,4]])\n",
    "\n",
    "print(array)\n",
    "\n",
    "#维数，形状-几行几列，大小\n",
    "print(array.ndim, array.shape, array.size)\n"
   ]
  },
  {
   "cell_type": "code",
   "execution_count": 2,
   "metadata": {
    "collapsed": false
   },
   "outputs": [
    {
     "name": "stdout",
     "output_type": "stream",
     "text": [
      "float32\n"
     ]
    }
   ],
   "source": [
    "a = np.array([2,23,4],dtype=np.float32) #类型精确 可以减小内存占用\n",
    "print(a.dtype)"
   ]
  },
  {
   "cell_type": "code",
   "execution_count": 3,
   "metadata": {
    "collapsed": false
   },
   "outputs": [
    {
     "name": "stdout",
     "output_type": "stream",
     "text": [
      "[[ 0.  0.  0.  0.]\n",
      " [ 0.  0.  0.  0.]\n",
      " [ 0.  0.  0.  0.]] float64\n"
     ]
    }
   ],
   "source": [
    "a = np.zeros((3,4))\n",
    "print(a, a.dtype)"
   ]
  },
  {
   "cell_type": "code",
   "execution_count": 4,
   "metadata": {
    "collapsed": false
   },
   "outputs": [
    {
     "name": "stdout",
     "output_type": "stream",
     "text": [
      "[[1 1 1 1]\n",
      " [1 1 1 1]\n",
      " [1 1 1 1]] int16\n"
     ]
    }
   ],
   "source": [
    "a = np.ones((3,4), dtype=np.int16)\n",
    "print(a, a.dtype)"
   ]
  },
  {
   "cell_type": "code",
   "execution_count": 5,
   "metadata": {
    "collapsed": false
   },
   "outputs": [
    {
     "name": "stdout",
     "output_type": "stream",
     "text": [
      "[[  0.00000000e+000   4.94065646e-324   9.88131292e-324   1.48219694e-323]\n",
      " [  1.97626258e-323   2.47032823e-323   2.96439388e-323   3.45845952e-323]\n",
      " [  3.95252517e-323   4.44659081e-323   4.94065646e-323   5.43472210e-323]] float64\n"
     ]
    }
   ],
   "source": [
    "a = np.empty((3,4))\n",
    "print(a, a.dtype)"
   ]
  },
  {
   "cell_type": "code",
   "execution_count": 6,
   "metadata": {
    "collapsed": false
   },
   "outputs": [
    {
     "name": "stdout",
     "output_type": "stream",
     "text": [
      "[10 12 14 16 18]\n"
     ]
    }
   ],
   "source": [
    "a = np.arange(10,20,2)\n",
    "print(a)"
   ]
  },
  {
   "cell_type": "code",
   "execution_count": 7,
   "metadata": {
    "collapsed": false
   },
   "outputs": [
    {
     "name": "stdout",
     "output_type": "stream",
     "text": [
      "[[ 0  1  2  3]\n",
      " [ 4  5  6  7]\n",
      " [ 8  9 10 11]]\n"
     ]
    }
   ],
   "source": [
    "a = np.arange(12).reshape((3,4))\n",
    "print(a)"
   ]
  },
  {
   "cell_type": "code",
   "execution_count": 8,
   "metadata": {
    "collapsed": false
   },
   "outputs": [
    {
     "name": "stdout",
     "output_type": "stream",
     "text": [
      "[[  1.   2.   3.   4.   5.]\n",
      " [  6.   7.   8.   9.  10.]\n",
      " [ 11.  12.  13.  14.  15.]\n",
      " [ 16.  17.  18.  19.  20.]]\n"
     ]
    }
   ],
   "source": [
    "a = np.linspace(1,20,20).reshape((4,5)) #等间距\n",
    "print(a)"
   ]
  },
  {
   "cell_type": "code",
   "execution_count": 21,
   "metadata": {
    "collapsed": false
   },
   "outputs": [
    {
     "name": "stdout",
     "output_type": "stream",
     "text": [
      "[10 20 30 40] [0 1 2 3]\n",
      "[  -54.40211109   365.17810029  -889.22846168  1192.18105677]\n",
      "[ True  True False False]\n"
     ]
    }
   ],
   "source": [
    "a = np.array([10,20,30,40])\n",
    "b = np.arange(4)\n",
    "print(a,b)\n",
    "c = a**2*np.sin(a)\n",
    "print(c)\n",
    "\n",
    "print(a < 25)"
   ]
  },
  {
   "cell_type": "code",
   "execution_count": 33,
   "metadata": {
    "collapsed": false
   },
   "outputs": [
    {
     "name": "stdout",
     "output_type": "stream",
     "text": [
      "[[1 1]\n",
      " [0 1]] [[0 1]\n",
      " [2 3]]\n",
      "[[0 1]\n",
      " [0 3]]\n",
      "[[2 4]\n",
      " [2 3]]\n",
      "[[2 4]\n",
      " [2 3]]\n"
     ]
    }
   ],
   "source": [
    "a = np.array([[1,1],[0,1]])\n",
    "\n",
    "b = np.arange(4).reshape((2,2))\n",
    "\n",
    "print(a,b)\n",
    "\n",
    "print(a*b) #逐个相乘\n",
    "\n",
    "print( np.dot(a,b)) #矩阵乘法\n",
    "print(a.dot(b))"
   ]
  },
  {
   "cell_type": "code",
   "execution_count": 44,
   "metadata": {
    "collapsed": false
   },
   "outputs": [
    {
     "name": "stdout",
     "output_type": "stream",
     "text": [
      "[[ 0.20839958  0.7482558   0.27886012  0.64145282]\n",
      " [ 0.52796709  0.8618956   0.04443993  0.51296277]]\n",
      "[ 1.87696833  1.94726538]\n",
      "[ 0.20839958  0.7482558   0.04443993  0.51296277]\n"
     ]
    }
   ],
   "source": [
    "a = np.random.random((2,4))\n",
    "print(a)\n",
    "\n",
    "print(np.sum(a,axis=1))\n",
    "print(np.min(a,axis=0))"
   ]
  },
  {
   "cell_type": "code",
   "execution_count": 67,
   "metadata": {
    "collapsed": false
   },
   "outputs": [
    {
     "name": "stdout",
     "output_type": "stream",
     "text": [
      "[[ 2  3  4  5]\n",
      " [ 6  7  8  9]\n",
      " [10 11 12 13]]\n",
      "0\n",
      "11\n",
      "7.5 7.5\n",
      "7.5\n",
      "7.5\n",
      "[ 2  5  9 14 20 27 35 44 54 65 77 90]\n",
      "[[1 1 1]\n",
      " [1 1 1]\n",
      " [1 1 1]]\n",
      "(array([0, 0, 0, 0, 1, 1, 1, 1, 2, 2, 2]), array([0, 1, 2, 3, 0, 1, 2, 3, 0, 1, 2]))\n",
      "[[ 2  3  4  5]\n",
      " [ 6  7  8  9]\n",
      " [10 11 12  0]]\n",
      "[[ 2  3  4  5]\n",
      " [ 6  7  8  9]\n",
      " [ 0 10 11 12]]\n",
      "[[ 2  6 10]\n",
      " [ 3  7 11]\n",
      " [ 4  8 12]\n",
      " [ 5  9  0]]\n",
      "[[140 158 176  64]\n",
      " [158 179 200  78]\n",
      " [176 200 224  92]\n",
      " [ 64  78  92 106]]\n",
      "[[5 5 5 5]\n",
      " [6 7 8 9]\n",
      " [9 9 9 5]]\n"
     ]
    }
   ],
   "source": [
    "a = np.arange(2,14).reshape((3,4))\n",
    "print(a)\n",
    "\n",
    "print( np.argmin(a) ) #最小值索引\n",
    "print( np.argmax(a)) \n",
    "\n",
    "\n",
    "print(np.mean(a), a.mean()) #平均值\n",
    "\n",
    "print(np.average(a)) \n",
    "print( np.median(a)) #中位数\n",
    "print( np.cumsum(a)) # 累加 2  2+3 2+3+4 2+3+4+5 \n",
    "print( np.diff(a)) # 累差 3-2 4-3 5-4\n",
    "\n",
    "a[2][3]=0\n",
    "print(np.nonzero(a)) #输出非零\n",
    "\n",
    "print(a)\n",
    "\n",
    "print(np.sort(a)) #排序\n",
    "\n",
    "\n",
    "print(np.transpose(a)) #矩阵转置\n",
    "\n",
    "print(a.T.dot(a))\n",
    "\n",
    "print(np.clip(a,5,9)) #所有小于5的 变为5  大于9的 变为9"
   ]
  }
 ],
 "metadata": {
  "kernelspec": {
   "display_name": "Python [Root]",
   "language": "python",
   "name": "Python [Root]"
  },
  "language_info": {
   "codemirror_mode": {
    "name": "ipython",
    "version": 3
   },
   "file_extension": ".py",
   "mimetype": "text/x-python",
   "name": "python",
   "nbconvert_exporter": "python",
   "pygments_lexer": "ipython3",
   "version": "3.5.2"
  }
 },
 "nbformat": 4,
 "nbformat_minor": 0
}
