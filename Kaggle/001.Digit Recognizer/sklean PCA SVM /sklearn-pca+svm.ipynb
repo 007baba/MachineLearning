{
 "cells": [
  {
   "cell_type": "code",
   "execution_count": 1,
   "metadata": {
    "collapsed": true
   },
   "outputs": [],
   "source": [
    "#Digit Recognizer\n",
    "#sklean PCA + SVM  \n",
    "#正确率： 0.98243 "
   ]
  },
  {
   "cell_type": "code",
   "execution_count": 2,
   "metadata": {
    "collapsed": true
   },
   "outputs": [],
   "source": [
    "import numpy as np\n",
    "from sklearn.decomposition import  PCA \n",
    "from sklearn.svm import  SVC "
   ]
  },
  {
   "cell_type": "code",
   "execution_count": 3,
   "metadata": {
    "collapsed": true
   },
   "outputs": [],
   "source": [
    "#为什么设置为35 \n",
    "COMPONENT_NUM = 35 "
   ]
  },
  {
   "cell_type": "code",
   "execution_count": 6,
   "metadata": {
    "collapsed": false
   },
   "outputs": [],
   "source": [
    "#导入数据\n",
    "\n",
    "with open('train.csv','r') as fd:\n",
    "    fd.readline()\n",
    "    train_label=[]\n",
    "    train_data = []\n",
    "\n",
    "    \n",
    "    for line in fd.readlines():\n",
    "        data = list(map(int, line.rstrip().split(',')))\n",
    "        train_label.append(data[0])\n",
    "        train_data.append(data[1:])\n",
    "    "
   ]
  },
  {
   "cell_type": "code",
   "execution_count": 7,
   "metadata": {
    "collapsed": true
   },
   "outputs": [],
   "source": [
    "#赋值\n",
    "train_label = np.array(train_label)\n",
    "train_data = np.array(train_data)\n",
    "\n",
    "#PCA \n",
    "pca = PCA(n_components=COMPONENT_NUM,whiten=True)\n",
    "pca.fit(train_data)\n",
    "train_data = pca.transform(train_data)\n"
   ]
  },
  {
   "cell_type": "code",
   "execution_count": 14,
   "metadata": {
    "collapsed": false
   },
   "outputs": [
    {
     "data": {
      "text/plain": [
       "SVC(C=1.0, cache_size=200, class_weight=None, coef0=0.0,\n",
       "  decision_function_shape=None, degree=3, gamma='auto', kernel='rbf',\n",
       "  max_iter=-1, probability=False, random_state=None, shrinking=True,\n",
       "  tol=0.001, verbose=False)"
      ]
     },
     "execution_count": 14,
     "metadata": {},
     "output_type": "execute_result"
    }
   ],
   "source": [
    "#训练\n",
    "svc = SVC()\n",
    "svc.fit(train_data, train_label)\n"
   ]
  },
  {
   "cell_type": "code",
   "execution_count": 15,
   "metadata": {
    "collapsed": true
   },
   "outputs": [],
   "source": [
    "#导入测试数据\n",
    "with open('test.csv','r') as fd:\n",
    "    fd.readline()\n",
    "    test_data=[]\n",
    "    for line in fd.readlines():\n",
    "        pixels = list(map(int, line.rstrip().split(',')))\n",
    "        test_data.append(pixels)\n",
    "        "
   ]
  },
  {
   "cell_type": "code",
   "execution_count": 16,
   "metadata": {
    "collapsed": true
   },
   "outputs": [],
   "source": [
    "#赋值\n",
    "test_data = np.array(test_data)\n",
    "test_data = pca.transform(test_data)\n",
    "\n"
   ]
  },
  {
   "cell_type": "code",
   "execution_count": 17,
   "metadata": {
    "collapsed": true
   },
   "outputs": [],
   "source": [
    "#预测\n",
    "predict = svc.predict(test_data)"
   ]
  },
  {
   "cell_type": "code",
   "execution_count": 20,
   "metadata": {
    "collapsed": false
   },
   "outputs": [],
   "source": [
    "#保存到本地\n",
    "with  open('predict.csv','w') as fd:\n",
    "    fd.write('\"ImageID\",\"Label\"\\n')\n",
    "    count = 0\n",
    "    for p in predict:\n",
    "        count+=1\n",
    "        fd.write(str(count)+',\"'+str(p)+'\"\\n')"
   ]
  }
 ],
 "metadata": {
  "anaconda-cloud": {},
  "kernelspec": {
   "display_name": "Python [Root]",
   "language": "python",
   "name": "Python [Root]"
  },
  "language_info": {
   "codemirror_mode": {
    "name": "ipython",
    "version": 3
   },
   "file_extension": ".py",
   "mimetype": "text/x-python",
   "name": "python",
   "nbconvert_exporter": "python",
   "pygments_lexer": "ipython3",
   "version": "3.5.2"
  }
 },
 "nbformat": 4,
 "nbformat_minor": 0
}
